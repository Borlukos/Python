{
 "cells": [
  {
   "cell_type": "code",
   "execution_count": null,
   "id": "45e4bb72-e4ec-47e6-a117-5dc19798c95d",
   "metadata": {},
   "outputs": [],
   "source": [
    "### подключение библиотек"
   ]
  },
  {
   "cell_type": "code",
   "execution_count": 9,
   "id": "67f9d64a-a9ec-4767-ae42-f5d50f346b5b",
   "metadata": {},
   "outputs": [],
   "source": [
    "import pandas as pd"
   ]
  },
  {
   "cell_type": "code",
   "execution_count": 11,
   "id": "d17c17c5-3b48-430b-a7b9-cb861483b665",
   "metadata": {},
   "outputs": [],
   "source": [
    "import numpy as np"
   ]
  },
  {
   "cell_type": "code",
   "execution_count": 13,
   "id": "076f079b-1385-4ebf-beef-5b3a0abcb300",
   "metadata": {},
   "outputs": [],
   "source": [
    "import psycopg2"
   ]
  },
  {
   "cell_type": "code",
   "execution_count": 15,
   "id": "0b686fa8-d4b0-43bf-ae54-e6808c195e9e",
   "metadata": {},
   "outputs": [
    {
     "data": {
      "text/plain": [
       "'2.2.2'"
      ]
     },
     "execution_count": 15,
     "metadata": {},
     "output_type": "execute_result"
    }
   ],
   "source": [
    "pd.__version__"
   ]
  },
  {
   "cell_type": "code",
   "execution_count": 17,
   "id": "95dd52df-e300-4539-a705-212ec2881523",
   "metadata": {},
   "outputs": [
    {
     "data": {
      "text/plain": [
       "'1.26.4'"
      ]
     },
     "execution_count": 17,
     "metadata": {},
     "output_type": "execute_result"
    }
   ],
   "source": [
    "np.__version__"
   ]
  },
  {
   "cell_type": "code",
   "execution_count": 19,
   "id": "9160463d-8a2f-445e-bf7d-d9205de0ac8a",
   "metadata": {},
   "outputs": [
    {
     "data": {
      "text/plain": [
       "'2.9.9 (dt dec pq3 ext lo64)'"
      ]
     },
     "execution_count": 19,
     "metadata": {},
     "output_type": "execute_result"
    }
   ],
   "source": [
    "psycopg2.__version__"
   ]
  },
  {
   "cell_type": "markdown",
   "id": "da56f1e2-8220-4f4e-ac00-e8a5a76bf503",
   "metadata": {},
   "source": [
    "### Подключение к БД\"demo\" используя запрос из аттестации"
   ]
  },
  {
   "cell_type": "code",
   "execution_count": 22,
   "id": "51a01bf6-4a82-4f87-9f65-ef69805147d9",
   "metadata": {},
   "outputs": [],
   "source": [
    "#запрос из аттестации\n",
    "query = \"\"\"\n",
    "WITH all_tabl AS\n",
    "(\n",
    "SELECT \n",
    "air.aircraft_code,\n",
    "air.model,\n",
    "pass.seat_no,\n",
    "se.fare_conditions,\n",
    "COUNT(pass.seat_no) AS count_seat\n",
    "FROM bookings.aircrafts AS air\n",
    "Left Join bookings.seats AS se\n",
    "ON air.aircraft_code = se.aircraft_code\n",
    "Left Join bookings.boarding_passes AS pass\n",
    "ON se.seat_no = pass.seat_no\n",
    "GROUP BY\n",
    "air.aircraft_code,\n",
    "air.model,\n",
    "se.fare_conditions,\n",
    "pass.seat_no\n",
    "ORDER BY\n",
    "count_seat DESC\n",
    ")\n",
    "SELECT\n",
    "all_tabl.aircraft_code,\n",
    "all_tabl.model,\n",
    "all_tabl.fare_conditions,\n",
    "all_tabl.seat_no,\n",
    "all_tabl.count_seat,\n",
    "AVG(all_tabl.count_seat) OVER (PARTITION BY all_tabl.model) AS average ,\n",
    "CASE WHEN (all_tabl.count_seat) >= (AVG(all_tabl.count_seat) OVER (PARTITION BY all_tabl.model)) THEN 'TOP' ELSE 'BASE' END status\n",
    "FROM\n",
    "all_tabl\n",
    "ORDER BY\n",
    "status DESC,\n",
    "all_tabl.count_seat DESC,\n",
    "average DESC;\n",
    "\"\"\""
   ]
  },
  {
   "cell_type": "code",
   "execution_count": 24,
   "id": "05fbfa78-509f-449c-9790-5bdc4ee058dd",
   "metadata": {},
   "outputs": [],
   "source": [
    "#подключение к БД \"demo\"\n",
    "psy_df = psycopg2.connect(\"dbname='demo' user='postgres' host='localhost' port='5432' password='Qwerty15'\")"
   ]
  },
  {
   "cell_type": "code",
   "execution_count": 26,
   "id": "92ef558d-40c5-4978-b75d-1b9f225ce802",
   "metadata": {},
   "outputs": [
    {
     "name": "stderr",
     "output_type": "stream",
     "text": [
      "C:\\Users\\user\\AppData\\Local\\Temp\\ipykernel_4296\\444723592.py:2: UserWarning: pandas only supports SQLAlchemy connectable (engine/connection) or database string URI or sqlite3 DBAPI2 connection. Other DBAPI2 objects are not tested. Please consider using SQLAlchemy.\n",
      "  df = pd.read_sql(query, con=psy_df)\n"
     ]
    },
    {
     "data": {
      "text/html": [
       "<div>\n",
       "<style scoped>\n",
       "    .dataframe tbody tr th:only-of-type {\n",
       "        vertical-align: middle;\n",
       "    }\n",
       "\n",
       "    .dataframe tbody tr th {\n",
       "        vertical-align: top;\n",
       "    }\n",
       "\n",
       "    .dataframe thead th {\n",
       "        text-align: right;\n",
       "    }\n",
       "</style>\n",
       "<table border=\"1\" class=\"dataframe\">\n",
       "  <thead>\n",
       "    <tr style=\"text-align: right;\">\n",
       "      <th></th>\n",
       "      <th>aircraft_code</th>\n",
       "      <th>model</th>\n",
       "      <th>fare_conditions</th>\n",
       "      <th>seat_no</th>\n",
       "      <th>count_seat</th>\n",
       "      <th>average</th>\n",
       "      <th>status</th>\n",
       "    </tr>\n",
       "  </thead>\n",
       "  <tbody>\n",
       "    <tr>\n",
       "      <th>0</th>\n",
       "      <td>CN1</td>\n",
       "      <td>Сессна 208 Караван</td>\n",
       "      <td>Economy</td>\n",
       "      <td>1A</td>\n",
       "      <td>19462</td>\n",
       "      <td>14180.000000</td>\n",
       "      <td>TOP</td>\n",
       "    </tr>\n",
       "    <tr>\n",
       "      <th>1</th>\n",
       "      <td>CR2</td>\n",
       "      <td>Бомбардье CRJ-200</td>\n",
       "      <td>Economy</td>\n",
       "      <td>1A</td>\n",
       "      <td>19462</td>\n",
       "      <td>13973.160000</td>\n",
       "      <td>TOP</td>\n",
       "    </tr>\n",
       "    <tr>\n",
       "      <th>2</th>\n",
       "      <td>SU9</td>\n",
       "      <td>Сухой Суперджет-100</td>\n",
       "      <td>Business</td>\n",
       "      <td>1A</td>\n",
       "      <td>19462</td>\n",
       "      <td>12704.195876</td>\n",
       "      <td>TOP</td>\n",
       "    </tr>\n",
       "    <tr>\n",
       "      <th>3</th>\n",
       "      <td>319</td>\n",
       "      <td>Аэробус A319-100</td>\n",
       "      <td>Business</td>\n",
       "      <td>1A</td>\n",
       "      <td>19462</td>\n",
       "      <td>11671.629310</td>\n",
       "      <td>TOP</td>\n",
       "    </tr>\n",
       "    <tr>\n",
       "      <th>4</th>\n",
       "      <td>733</td>\n",
       "      <td>Боинг 737-300</td>\n",
       "      <td>Business</td>\n",
       "      <td>1A</td>\n",
       "      <td>19462</td>\n",
       "      <td>11160.692308</td>\n",
       "      <td>TOP</td>\n",
       "    </tr>\n",
       "    <tr>\n",
       "      <th>...</th>\n",
       "      <td>...</td>\n",
       "      <td>...</td>\n",
       "      <td>...</td>\n",
       "      <td>...</td>\n",
       "      <td>...</td>\n",
       "      <td>...</td>\n",
       "      <td>...</td>\n",
       "    </tr>\n",
       "    <tr>\n",
       "      <th>1334</th>\n",
       "      <td>773</td>\n",
       "      <td>Боинг 777-300</td>\n",
       "      <td>Economy</td>\n",
       "      <td>50K</td>\n",
       "      <td>635</td>\n",
       "      <td>3552.828358</td>\n",
       "      <td>BASE</td>\n",
       "    </tr>\n",
       "    <tr>\n",
       "      <th>1335</th>\n",
       "      <td>773</td>\n",
       "      <td>Боинг 777-300</td>\n",
       "      <td>Economy</td>\n",
       "      <td>33C</td>\n",
       "      <td>634</td>\n",
       "      <td>3552.828358</td>\n",
       "      <td>BASE</td>\n",
       "    </tr>\n",
       "    <tr>\n",
       "      <th>1336</th>\n",
       "      <td>773</td>\n",
       "      <td>Боинг 777-300</td>\n",
       "      <td>Economy</td>\n",
       "      <td>20J</td>\n",
       "      <td>632</td>\n",
       "      <td>3552.828358</td>\n",
       "      <td>BASE</td>\n",
       "    </tr>\n",
       "    <tr>\n",
       "      <th>1337</th>\n",
       "      <td>773</td>\n",
       "      <td>Боинг 777-300</td>\n",
       "      <td>Economy</td>\n",
       "      <td>35J</td>\n",
       "      <td>631</td>\n",
       "      <td>3552.828358</td>\n",
       "      <td>BASE</td>\n",
       "    </tr>\n",
       "    <tr>\n",
       "      <th>1338</th>\n",
       "      <td>773</td>\n",
       "      <td>Боинг 777-300</td>\n",
       "      <td>Economy</td>\n",
       "      <td>37C</td>\n",
       "      <td>622</td>\n",
       "      <td>3552.828358</td>\n",
       "      <td>BASE</td>\n",
       "    </tr>\n",
       "  </tbody>\n",
       "</table>\n",
       "<p>1339 rows × 7 columns</p>\n",
       "</div>"
      ],
      "text/plain": [
       "     aircraft_code                model fare_conditions seat_no  count_seat  \\\n",
       "0              CN1   Сессна 208 Караван         Economy      1A       19462   \n",
       "1              CR2    Бомбардье CRJ-200         Economy      1A       19462   \n",
       "2              SU9  Сухой Суперджет-100        Business      1A       19462   \n",
       "3              319     Аэробус A319-100        Business      1A       19462   \n",
       "4              733        Боинг 737-300        Business      1A       19462   \n",
       "...            ...                  ...             ...     ...         ...   \n",
       "1334           773        Боинг 777-300         Economy     50K         635   \n",
       "1335           773        Боинг 777-300         Economy     33C         634   \n",
       "1336           773        Боинг 777-300         Economy     20J         632   \n",
       "1337           773        Боинг 777-300         Economy     35J         631   \n",
       "1338           773        Боинг 777-300         Economy     37C         622   \n",
       "\n",
       "           average status  \n",
       "0     14180.000000    TOP  \n",
       "1     13973.160000    TOP  \n",
       "2     12704.195876    TOP  \n",
       "3     11671.629310    TOP  \n",
       "4     11160.692308    TOP  \n",
       "...            ...    ...  \n",
       "1334   3552.828358   BASE  \n",
       "1335   3552.828358   BASE  \n",
       "1336   3552.828358   BASE  \n",
       "1337   3552.828358   BASE  \n",
       "1338   3552.828358   BASE  \n",
       "\n",
       "[1339 rows x 7 columns]"
      ]
     },
     "execution_count": 26,
     "metadata": {},
     "output_type": "execute_result"
    }
   ],
   "source": [
    "#запрос БД\n",
    "df = pd.read_sql(query, con=psy_df)\n",
    "df"
   ]
  },
  {
   "attachments": {},
   "cell_type": "markdown",
   "id": "861266e4-e53c-4255-a230-b45d2b5b4eb6",
   "metadata": {},
   "source": [
    "### количество строк / столбцов таблицы"
   ]
  },
  {
   "cell_type": "code",
   "execution_count": 46,
   "id": "8bba91fd-7399-4819-8f26-44812ed038ff",
   "metadata": {},
   "outputs": [
    {
     "data": {
      "text/plain": [
       "(1339, 7)"
      ]
     },
     "execution_count": 46,
     "metadata": {},
     "output_type": "execute_result"
    }
   ],
   "source": [
    "df.shape"
   ]
  },
  {
   "attachments": {},
   "cell_type": "markdown",
   "id": "cd39fbb9-476b-4063-b9c7-78218d9df5e3",
   "metadata": {},
   "source": [
    "### тип данных в столбцах"
   ]
  },
  {
   "cell_type": "code",
   "execution_count": 30,
   "id": "dca2d22f-1ad7-46dd-a987-3bea366acd8e",
   "metadata": {},
   "outputs": [
    {
     "data": {
      "text/plain": [
       "aircraft_code       object\n",
       "model               object\n",
       "fare_conditions     object\n",
       "seat_no             object\n",
       "count_seat           int64\n",
       "average            float64\n",
       "status              object\n",
       "dtype: object"
      ]
     },
     "execution_count": 30,
     "metadata": {},
     "output_type": "execute_result"
    }
   ],
   "source": [
    "df.dtypes"
   ]
  },
  {
   "attachments": {},
   "cell_type": "markdown",
   "id": "cb21e0ac-92c1-42a2-be14-0ec4974f0d68",
   "metadata": {},
   "source": [
    "### количество уникальных значений по строковой переменной"
   ]
  },
  {
   "cell_type": "code",
   "execution_count": 32,
   "id": "8a05fbbb-c949-4d3d-ba08-4b871e25f4fe",
   "metadata": {},
   "outputs": [
    {
     "data": {
      "text/plain": [
       "array(['Сессна 208 Караван', 'Бомбардье CRJ-200', 'Сухой Суперджет-100',\n",
       "       'Аэробус A319-100', 'Боинг 737-300', 'Аэробус A320-200',\n",
       "       'Аэробус A321-200', 'Боинг 767-300', 'Боинг 777-300'], dtype=object)"
      ]
     },
     "execution_count": 32,
     "metadata": {},
     "output_type": "execute_result"
    }
   ],
   "source": [
    "#уникальные значения\n",
    "df['model'].unique()"
   ]
  },
  {
   "cell_type": "code",
   "execution_count": 33,
   "id": "8d562edf-d2be-4288-87ed-0d401e3b0081",
   "metadata": {},
   "outputs": [
    {
     "data": {
      "text/plain": [
       "9"
      ]
     },
     "execution_count": 33,
     "metadata": {},
     "output_type": "execute_result"
    }
   ],
   "source": [
    "#количество уникальных значемний\n",
    "len(df['model'].unique())"
   ]
  },
  {
   "cell_type": "markdown",
   "id": "107ef9c0-4306-4c6f-a63a-5cd1ed2057fd",
   "metadata": {},
   "source": [
    "### частота встречающихся значений по строковой переменной"
   ]
  },
  {
   "cell_type": "code",
   "execution_count": 36,
   "id": "5a0796fe-4408-4970-997d-5e49d5732ab3",
   "metadata": {},
   "outputs": [
    {
     "data": {
      "text/html": [
       "<div>\n",
       "<style scoped>\n",
       "    .dataframe tbody tr th:only-of-type {\n",
       "        vertical-align: middle;\n",
       "    }\n",
       "\n",
       "    .dataframe tbody tr th {\n",
       "        vertical-align: top;\n",
       "    }\n",
       "\n",
       "    .dataframe thead th {\n",
       "        text-align: right;\n",
       "    }\n",
       "</style>\n",
       "<table border=\"1\" class=\"dataframe\">\n",
       "  <thead>\n",
       "    <tr style=\"text-align: right;\">\n",
       "      <th>model</th>\n",
       "      <th>Аэробус A319-100</th>\n",
       "      <th>Аэробус A320-200</th>\n",
       "      <th>Аэробус A321-200</th>\n",
       "      <th>Боинг 737-300</th>\n",
       "      <th>Боинг 767-300</th>\n",
       "      <th>Боинг 777-300</th>\n",
       "      <th>Бомбардье CRJ-200</th>\n",
       "      <th>Сессна 208 Караван</th>\n",
       "      <th>Сухой Суперджет-100</th>\n",
       "    </tr>\n",
       "    <tr>\n",
       "      <th>fare_conditions</th>\n",
       "      <th></th>\n",
       "      <th></th>\n",
       "      <th></th>\n",
       "      <th></th>\n",
       "      <th></th>\n",
       "      <th></th>\n",
       "      <th></th>\n",
       "      <th></th>\n",
       "      <th></th>\n",
       "    </tr>\n",
       "  </thead>\n",
       "  <tbody>\n",
       "    <tr>\n",
       "      <th>Business</th>\n",
       "      <td>20</td>\n",
       "      <td>20</td>\n",
       "      <td>28</td>\n",
       "      <td>12</td>\n",
       "      <td>30</td>\n",
       "      <td>30</td>\n",
       "      <td>0</td>\n",
       "      <td>0</td>\n",
       "      <td>12</td>\n",
       "    </tr>\n",
       "    <tr>\n",
       "      <th>Comfort</th>\n",
       "      <td>0</td>\n",
       "      <td>0</td>\n",
       "      <td>0</td>\n",
       "      <td>0</td>\n",
       "      <td>0</td>\n",
       "      <td>48</td>\n",
       "      <td>0</td>\n",
       "      <td>0</td>\n",
       "      <td>0</td>\n",
       "    </tr>\n",
       "    <tr>\n",
       "      <th>Economy</th>\n",
       "      <td>96</td>\n",
       "      <td>120</td>\n",
       "      <td>142</td>\n",
       "      <td>118</td>\n",
       "      <td>192</td>\n",
       "      <td>324</td>\n",
       "      <td>50</td>\n",
       "      <td>12</td>\n",
       "      <td>85</td>\n",
       "    </tr>\n",
       "  </tbody>\n",
       "</table>\n",
       "</div>"
      ],
      "text/plain": [
       "model            Аэробус A319-100  Аэробус A320-200  Аэробус A321-200  \\\n",
       "fare_conditions                                                         \n",
       "Business                       20                20                28   \n",
       "Comfort                         0                 0                 0   \n",
       "Economy                        96               120               142   \n",
       "\n",
       "model            Боинг 737-300  Боинг 767-300  Боинг 777-300  \\\n",
       "fare_conditions                                                \n",
       "Business                    12             30             30   \n",
       "Comfort                      0              0             48   \n",
       "Economy                    118            192            324   \n",
       "\n",
       "model            Бомбардье CRJ-200  Сессна 208 Караван  Сухой Суперджет-100  \n",
       "fare_conditions                                                              \n",
       "Business                         0                   0                   12  \n",
       "Comfort                          0                   0                    0  \n",
       "Economy                         50                  12                   85  "
      ]
     },
     "execution_count": 36,
     "metadata": {},
     "output_type": "execute_result"
    }
   ],
   "source": [
    "#сравнение условий комфорта относительно модели самолёта, показывает какие условия \n",
    "#комфорта на каких моделях самолёта самые популярные.\n",
    "pd.crosstab(df['fare_conditions'],df['model'])"
   ]
  },
  {
   "attachments": {},
   "cell_type": "markdown",
   "id": "5d6dee35-d14d-429b-9478-156ed0f4edbf",
   "metadata": {},
   "source": [
    "### минимум, среднее значение, медиана, максимум по числовой переменной"
   ]
  },
  {
   "cell_type": "code",
   "execution_count": 38,
   "id": "b66d9ef3-6866-427d-9d57-ae88ab60e942",
   "metadata": {},
   "outputs": [
    {
     "data": {
      "text/html": [
       "<div>\n",
       "<style scoped>\n",
       "    .dataframe tbody tr th:only-of-type {\n",
       "        vertical-align: middle;\n",
       "    }\n",
       "\n",
       "    .dataframe tbody tr th {\n",
       "        vertical-align: top;\n",
       "    }\n",
       "\n",
       "    .dataframe thead th {\n",
       "        text-align: right;\n",
       "    }\n",
       "</style>\n",
       "<table border=\"1\" class=\"dataframe\">\n",
       "  <thead>\n",
       "    <tr style=\"text-align: right;\">\n",
       "      <th></th>\n",
       "      <th>count_seat</th>\n",
       "      <th>average</th>\n",
       "    </tr>\n",
       "  </thead>\n",
       "  <tbody>\n",
       "    <tr>\n",
       "      <th>count</th>\n",
       "      <td>1339.000000</td>\n",
       "      <td>1339.000000</td>\n",
       "    </tr>\n",
       "    <tr>\n",
       "      <th>mean</th>\n",
       "      <td>7841.863331</td>\n",
       "      <td>7841.863331</td>\n",
       "    </tr>\n",
       "    <tr>\n",
       "      <th>std</th>\n",
       "      <td>5878.877954</td>\n",
       "      <td>3614.919519</td>\n",
       "    </tr>\n",
       "    <tr>\n",
       "      <th>min</th>\n",
       "      <td>622.000000</td>\n",
       "      <td>3552.828358</td>\n",
       "    </tr>\n",
       "    <tr>\n",
       "      <th>25%</th>\n",
       "      <td>1695.000000</td>\n",
       "      <td>3552.828358</td>\n",
       "    </tr>\n",
       "    <tr>\n",
       "      <th>50%</th>\n",
       "      <td>9529.000000</td>\n",
       "      <td>8748.611765</td>\n",
       "    </tr>\n",
       "    <tr>\n",
       "      <th>75%</th>\n",
       "      <td>11626.000000</td>\n",
       "      <td>11160.692308</td>\n",
       "    </tr>\n",
       "    <tr>\n",
       "      <th>max</th>\n",
       "      <td>19462.000000</td>\n",
       "      <td>14180.000000</td>\n",
       "    </tr>\n",
       "  </tbody>\n",
       "</table>\n",
       "</div>"
      ],
      "text/plain": [
       "         count_seat       average\n",
       "count   1339.000000   1339.000000\n",
       "mean    7841.863331   7841.863331\n",
       "std     5878.877954   3614.919519\n",
       "min      622.000000   3552.828358\n",
       "25%     1695.000000   3552.828358\n",
       "50%     9529.000000   8748.611765\n",
       "75%    11626.000000  11160.692308\n",
       "max    19462.000000  14180.000000"
      ]
     },
     "execution_count": 38,
     "metadata": {},
     "output_type": "execute_result"
    }
   ],
   "source": [
    "df.describe()"
   ]
  }
 ],
 "metadata": {
  "kernelspec": {
   "display_name": "Python 3 (ipykernel)",
   "language": "python",
   "name": "python3"
  },
  "language_info": {
   "codemirror_mode": {
    "name": "ipython",
    "version": 3
   },
   "file_extension": ".py",
   "mimetype": "text/x-python",
   "name": "python",
   "nbconvert_exporter": "python",
   "pygments_lexer": "ipython3",
   "version": "3.12.4"
  }
 },
 "nbformat": 4,
 "nbformat_minor": 5
}
