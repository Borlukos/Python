{
 "cells": [
  {
   "cell_type": "code",
   "execution_count": 1,
   "id": "e2b1f3c4-7c60-4bc0-9275-f858297b816c",
   "metadata": {},
   "outputs": [],
   "source": [
    "import pandas as pd\n",
    "import numpy as np\n",
    "import matplotlib.pyplot as plt\n",
    "import seaborn as sns\n",
    "import warnings\n",
    "warnings.filterwarnings(\"ignore\")\n",
    "from scipy import stats\n",
    "import statistics\n",
    "from scipy.stats import mannwhitneyu\n",
    "import statsmodels.api as sm"
   ]
  },
  {
   "cell_type": "code",
   "execution_count": 141,
   "id": "f48cbf42-441b-42bf-b723-2c5d97892ae2",
   "metadata": {},
   "outputs": [],
   "source": [
    "#загрузка данных\n",
    "df = pd.read_csv (r\"https://raw.githubusercontent.com/Borlukos/Python/refs/heads/main/marketing_AB.csv\")"
   ]
  },
  {
   "cell_type": "code",
   "execution_count": 263,
   "id": "fddee4f2-b41b-4553-853c-bc82dec20316",
   "metadata": {},
   "outputs": [
    {
     "data": {
      "text/html": [
       "<div>\n",
       "<style scoped>\n",
       "    .dataframe tbody tr th:only-of-type {\n",
       "        vertical-align: middle;\n",
       "    }\n",
       "\n",
       "    .dataframe tbody tr th {\n",
       "        vertical-align: top;\n",
       "    }\n",
       "\n",
       "    .dataframe thead th {\n",
       "        text-align: right;\n",
       "    }\n",
       "</style>\n",
       "<table border=\"1\" class=\"dataframe\">\n",
       "  <thead>\n",
       "    <tr style=\"text-align: right;\">\n",
       "      <th></th>\n",
       "      <th>Unnamed: 0</th>\n",
       "      <th>user id</th>\n",
       "      <th>test group</th>\n",
       "      <th>converted</th>\n",
       "      <th>total ads</th>\n",
       "      <th>most ads day</th>\n",
       "      <th>most ads hour</th>\n",
       "    </tr>\n",
       "  </thead>\n",
       "  <tbody>\n",
       "    <tr>\n",
       "      <th>0</th>\n",
       "      <td>0</td>\n",
       "      <td>1069124</td>\n",
       "      <td>ad</td>\n",
       "      <td>0</td>\n",
       "      <td>130</td>\n",
       "      <td>Monday</td>\n",
       "      <td>20</td>\n",
       "    </tr>\n",
       "    <tr>\n",
       "      <th>1</th>\n",
       "      <td>1</td>\n",
       "      <td>1119715</td>\n",
       "      <td>ad</td>\n",
       "      <td>0</td>\n",
       "      <td>93</td>\n",
       "      <td>Tuesday</td>\n",
       "      <td>22</td>\n",
       "    </tr>\n",
       "    <tr>\n",
       "      <th>2</th>\n",
       "      <td>2</td>\n",
       "      <td>1144181</td>\n",
       "      <td>ad</td>\n",
       "      <td>0</td>\n",
       "      <td>21</td>\n",
       "      <td>Tuesday</td>\n",
       "      <td>18</td>\n",
       "    </tr>\n",
       "    <tr>\n",
       "      <th>3</th>\n",
       "      <td>3</td>\n",
       "      <td>1435133</td>\n",
       "      <td>ad</td>\n",
       "      <td>0</td>\n",
       "      <td>355</td>\n",
       "      <td>Tuesday</td>\n",
       "      <td>10</td>\n",
       "    </tr>\n",
       "    <tr>\n",
       "      <th>4</th>\n",
       "      <td>4</td>\n",
       "      <td>1015700</td>\n",
       "      <td>ad</td>\n",
       "      <td>0</td>\n",
       "      <td>276</td>\n",
       "      <td>Friday</td>\n",
       "      <td>14</td>\n",
       "    </tr>\n",
       "    <tr>\n",
       "      <th>5</th>\n",
       "      <td>5</td>\n",
       "      <td>1137664</td>\n",
       "      <td>ad</td>\n",
       "      <td>0</td>\n",
       "      <td>734</td>\n",
       "      <td>Saturday</td>\n",
       "      <td>10</td>\n",
       "    </tr>\n",
       "    <tr>\n",
       "      <th>6</th>\n",
       "      <td>6</td>\n",
       "      <td>1116205</td>\n",
       "      <td>ad</td>\n",
       "      <td>0</td>\n",
       "      <td>264</td>\n",
       "      <td>Wednesday</td>\n",
       "      <td>13</td>\n",
       "    </tr>\n",
       "    <tr>\n",
       "      <th>7</th>\n",
       "      <td>7</td>\n",
       "      <td>1496843</td>\n",
       "      <td>ad</td>\n",
       "      <td>0</td>\n",
       "      <td>17</td>\n",
       "      <td>Sunday</td>\n",
       "      <td>18</td>\n",
       "    </tr>\n",
       "    <tr>\n",
       "      <th>8</th>\n",
       "      <td>8</td>\n",
       "      <td>1448851</td>\n",
       "      <td>ad</td>\n",
       "      <td>0</td>\n",
       "      <td>21</td>\n",
       "      <td>Tuesday</td>\n",
       "      <td>19</td>\n",
       "    </tr>\n",
       "    <tr>\n",
       "      <th>9</th>\n",
       "      <td>9</td>\n",
       "      <td>1446284</td>\n",
       "      <td>ad</td>\n",
       "      <td>0</td>\n",
       "      <td>142</td>\n",
       "      <td>Monday</td>\n",
       "      <td>14</td>\n",
       "    </tr>\n",
       "  </tbody>\n",
       "</table>\n",
       "</div>"
      ],
      "text/plain": [
       "   Unnamed: 0  user id test group  converted  total ads most ads day  \\\n",
       "0           0  1069124         ad          0        130       Monday   \n",
       "1           1  1119715         ad          0         93      Tuesday   \n",
       "2           2  1144181         ad          0         21      Tuesday   \n",
       "3           3  1435133         ad          0        355      Tuesday   \n",
       "4           4  1015700         ad          0        276       Friday   \n",
       "5           5  1137664         ad          0        734     Saturday   \n",
       "6           6  1116205         ad          0        264    Wednesday   \n",
       "7           7  1496843         ad          0         17       Sunday   \n",
       "8           8  1448851         ad          0         21      Tuesday   \n",
       "9           9  1446284         ad          0        142       Monday   \n",
       "\n",
       "   most ads hour  \n",
       "0             20  \n",
       "1             22  \n",
       "2             18  \n",
       "3             10  \n",
       "4             14  \n",
       "5             10  \n",
       "6             13  \n",
       "7             18  \n",
       "8             19  \n",
       "9             14  "
      ]
     },
     "execution_count": 263,
     "metadata": {},
     "output_type": "execute_result"
    }
   ],
   "source": [
    "df.head(10)"
   ]
  },
  {
   "cell_type": "code",
   "execution_count": 148,
   "id": "72ea439a-2161-4fb2-9504-2356ee6b2936",
   "metadata": {},
   "outputs": [
    {
     "data": {
      "text/plain": [
       "Unnamed: 0       0\n",
       "user id          0\n",
       "test group       0\n",
       "converted        0\n",
       "total ads        0\n",
       "most ads day     0\n",
       "most ads hour    0\n",
       "dtype: int64"
      ]
     },
     "execution_count": 148,
     "metadata": {},
     "output_type": "execute_result"
    }
   ],
   "source": [
    "df.isnull().sum()"
   ]
  },
  {
   "cell_type": "code",
   "execution_count": 24,
   "id": "81f3d0d8-5cad-4319-bc98-00f42560d69d",
   "metadata": {},
   "outputs": [
    {
     "data": {
      "text/plain": [
       "array(['ad', 'psa'], dtype=object)"
      ]
     },
     "execution_count": 24,
     "metadata": {},
     "output_type": "execute_result"
    }
   ],
   "source": [
    "df['test group'].unique()"
   ]
  },
  {
   "cell_type": "code",
   "execution_count": 253,
   "id": "81406df9-7b88-4207-a1ea-6edf91c35678",
   "metadata": {},
   "outputs": [
    {
     "data": {
      "text/plain": [
       "array([0, 1], dtype=int64)"
      ]
     },
     "execution_count": 253,
     "metadata": {},
     "output_type": "execute_result"
    }
   ],
   "source": [
    "df['converted'].unique()"
   ]
  },
  {
   "cell_type": "code",
   "execution_count": 16,
   "id": "dbbc1a7c-5171-40a1-aa5d-059afa8becad",
   "metadata": {},
   "outputs": [
    {
     "data": {
      "text/plain": [
       "array(['Monday', 'Tuesday', 'Friday', 'Saturday', 'Wednesday', 'Sunday',\n",
       "       'Thursday'], dtype=object)"
      ]
     },
     "execution_count": 16,
     "metadata": {},
     "output_type": "execute_result"
    }
   ],
   "source": [
    "df['most ads day'].unique()"
   ]
  },
  {
   "cell_type": "code",
   "execution_count": 18,
   "id": "ef064897-5ebb-4b02-b723-ebf75a51812d",
   "metadata": {},
   "outputs": [
    {
     "data": {
      "text/plain": [
       "array([20, 22, 18, 10, 14, 13, 19, 11, 12, 16, 21,  3, 23,  4,  8,  0,  2,\n",
       "       15,  1,  6, 17,  7,  9,  5], dtype=int64)"
      ]
     },
     "execution_count": 18,
     "metadata": {},
     "output_type": "execute_result"
    }
   ],
   "source": [
    "df['most ads hour'].unique()"
   ]
  },
  {
   "cell_type": "code",
   "execution_count": 178,
   "id": "a5697906-bcbd-4fce-acb1-74bd20f20820",
   "metadata": {},
   "outputs": [],
   "source": [
    "df['converted'] = df['converted'].apply(lambda x: 1 if x == True else 0)"
   ]
  },
  {
   "cell_type": "code",
   "execution_count": 182,
   "id": "f06d67c5-9068-41d6-bcf8-6b941016a392",
   "metadata": {},
   "outputs": [
    {
     "name": "stdout",
     "output_type": "stream",
     "text": [
      "Всего наблюдений 588101\n",
      "Видели рекламу объявления 564577\n",
      "Видели только социальную рекламу 23524\n",
      "Группа А видели рекламу объявления 564577\n",
      "Группа Б видели только социальную рекламу 23524\n",
      "Всего приобрели 14843\n",
      "Группа А видели рекламу объявления и купили 14423\n",
      "Группа Б видели рекламу объявления и купили 420\n"
     ]
    }
   ],
   "source": [
    "#Всего 588101 наблюдений\n",
    "print('Всего наблюдений',df['test group'].shape[0])\n",
    "#Видели рекламу объявления\n",
    "print('Видели рекламу объявления',df[df['test group']=='ad'].shape[0])\n",
    "#Видели только социальную рекламу\n",
    "print('Видели только социальную рекламу',df[df['test group']=='psa'].shape[0])\n",
    "#Группа А видели рекламу объявления\n",
    "group_a = df[df['test group']=='ad']\n",
    "print('Группа А видели рекламу объявления',group_a.shape[0])\n",
    "#Группа Б видели только социальную рекламу\n",
    "group_b = df[df['test group']=='psa']\n",
    "print('Группа Б видели только социальную рекламу',group_b.shape[0])\n",
    "#Всего приобрели\n",
    "print('Всего приобрели',df[df['converted']==1].shape[0])\n",
    "#Группа А видели рекламу объявления и купили\n",
    "print('Группа А видели рекламу объявления и купили',group_a[group_a['converted']==1].shape[0])\n",
    "#Группа Б видели рекламу объявления и купили\n",
    "print('Группа Б видели рекламу объявления и купили',group_b[group_b['converted']==1].shape[0])"
   ]
  },
  {
   "cell_type": "markdown",
   "id": "7502baa5-c712-41fe-937b-c61df32cc97a",
   "metadata": {},
   "source": [
    "# 1. Проанализировать группы клиентов и ответить на вопрос, какой тип рекламы был успешнее. "
   ]
  },
  {
   "cell_type": "markdown",
   "id": "cb8d96f9-6cf8-415b-809c-3be054eb9882",
   "metadata": {},
   "source": [
    "# Конверсия."
   ]
  },
  {
   "cell_type": "code",
   "execution_count": 184,
   "id": "73a5623c-bc34-453c-ae7a-1e90b2502a02",
   "metadata": {},
   "outputs": [
    {
     "name": "stdout",
     "output_type": "stream",
     "text": [
      "Конверсия всего: 0.02523886203220195\n",
      "Конверсия группы А: 0.025546559636683747\n",
      "Конверсия группы Б: 0.01785410644448223\n"
     ]
    }
   ],
   "source": [
    "print('Конверсия всего:', df[df['converted']==1].shape[0] / df['converted'].shape[0])\n",
    "print('Конверсия группы А:', group_a[group_a['converted']==1].shape[0] / group_a.shape[0])\n",
    "print('Конверсия группы Б:', group_b[group_b['converted']==1].shape[0] / group_b.shape[0])"
   ]
  },
  {
   "cell_type": "markdown",
   "id": "579d2a0a-887a-446e-8998-673950241222",
   "metadata": {},
   "source": [
    "### Тестирование Т-тест\n",
    "##### Нулевая гипотеза: Средняя конверсия группы A равна средней конверсии группы B.\n",
    "##### Альтернативная гипотеза: Средняя конверсия группы A неравна средней конверсии группы B."
   ]
  },
  {
   "cell_type": "code",
   "execution_count": 261,
   "id": "d336249a-1586-4d31-8f9f-7fea81a55046",
   "metadata": {},
   "outputs": [
    {
     "name": "stdout",
     "output_type": "stream",
     "text": [
      "Отвергаем нулевую гипотезу: Средняя конверсия группы A равна средней конверсии группы B\n"
     ]
    }
   ],
   "source": [
    "print(np.where(stats.ttest_ind(group_a['converted'], group_b['converted'])[1]<0.05, \"Отвергаем нулевую гипотезу: Средняя конверсия группы A равна средней конверсии группы B\", \"Не отвергаем нулевую гипотезу: Средняя конверсия группы A неравна средней конверсии группы Б\"))"
   ]
  },
  {
   "cell_type": "markdown",
   "id": "4c2aecf5-586c-40e2-a2ce-dbca69b2ebed",
   "metadata": {},
   "source": [
    "### Вывод: Существуют статистические значимые различия между конверсиями группы A и B"
   ]
  },
  {
   "cell_type": "code",
   "execution_count": 214,
   "id": "351cfb92-079e-4b6c-b608-4bdbf8969843",
   "metadata": {},
   "outputs": [
    {
     "name": "stdout",
     "output_type": "stream",
     "text": [
      "Конверсия группы А больше: Реклама объявлений привела к большим покупкам(группа А)\n"
     ]
    }
   ],
   "source": [
    "print(np.where(group_a[group_a['converted']==1].shape[0] / group_a.shape[0]>group_b[group_b['converted']==1].shape[0] / group_b.shape[0],'Конверсия группы А больше: Реклама объявлений привела к большим покупкам(группа А)','Конверсия группы Б больше: Социальная реклама привела к большим покупкам(группа Б)'))"
   ]
  },
  {
   "cell_type": "markdown",
   "id": "8abbbdf8-72bb-4d17-917c-dc5713f9f963",
   "metadata": {},
   "source": [
    "# Вывод: реклама объявлений лучше чем социальная реклама."
   ]
  },
  {
   "cell_type": "markdown",
   "id": "7e20a291-e856-4458-b797-043389f0b657",
   "metadata": {},
   "source": [
    "# 2. Поиск гетерогенных эффектов"
   ]
  },
  {
   "cell_type": "code",
   "execution_count": 272,
   "id": "57001a2b-ef3a-422e-bebe-c10ceaf2322c",
   "metadata": {},
   "outputs": [
    {
     "data": {
      "image/png": "[encoded data removed]",
      "text/plain": [
       "<Figure size 1700x300 with 2 Axes>"
      ]
     },
     "metadata": {},
     "output_type": "display_data"
    }
   ],
   "source": [
    "fig, ax = plt.subplots(1,2, figsize = (17,3))\n",
    "plt.suptitle('Распределение количества покупок')\n",
    "sns.histplot(group_a['most ads day'], ax = ax[0])\n",
    "sns.histplot(group_b['most ads day'], ax = ax[1])\n",
    "ax[0].set_title('Группа А')\n",
    "ax[1].set_title('Группа Б')\n",
    "plt.show()"
   ]
  },
  {
   "cell_type": "code",
   "execution_count": 276,
   "id": "c028a049-4141-4e99-846b-d11d8546b0ca",
   "metadata": {},
   "outputs": [
    {
     "data": {
      "text/plain": [
       "most ads day\n",
       "Friday       0.022465\n",
       "Monday       0.033241\n",
       "Saturday     0.021307\n",
       "Sunday       0.024620\n",
       "Thursday     0.021637\n",
       "Tuesday      0.030440\n",
       "Wednesday    0.025356\n",
       "Name: converted, dtype: float64"
      ]
     },
     "execution_count": 276,
     "metadata": {},
     "output_type": "execute_result"
    }
   ],
   "source": [
    "group_a.groupby('most ads day')['converted'].mean()"
   ]
  },
  {
   "cell_type": "code",
   "execution_count": 354,
   "id": "5129b559-fce8-4231-93e4-aaf1a99bfe20",
   "metadata": {},
   "outputs": [
    {
     "data": {
      "text/plain": [
       "most ads day\n",
       "Friday       0.016303\n",
       "Monday       0.022559\n",
       "Saturday     0.013996\n",
       "Sunday       0.020595\n",
       "Thursday     0.020230\n",
       "Tuesday      0.014448\n",
       "Wednesday    0.015759\n",
       "Name: converted, dtype: float64"
      ]
     },
     "execution_count": 354,
     "metadata": {},
     "output_type": "execute_result"
    }
   ],
   "source": [
    "group_b.groupby('most ads day')['converted'].mean()"
   ]
  },
  {
   "cell_type": "markdown",
   "id": "6efd47f2-49ad-4d34-9976-f198cfce3a45",
   "metadata": {},
   "source": [
    "### Значимость эффекта в определенный день недели."
   ]
  },
  {
   "cell_type": "code",
   "execution_count": 524,
   "id": "1fbf2352-0d4a-4f5e-9a13-c9be019292dc",
   "metadata": {},
   "outputs": [
    {
     "name": "stdout",
     "output_type": "stream",
     "text": [
      "Отвергаем нулевую гипотезу: Средняя конверсия группы A равна средней конверсии группы B\n",
      "Конверсия группы А больше: Реклама объявлений привела к большим покупкам(группа А)\n"
     ]
    }
   ],
   "source": [
    "print(np.where(stats.ttest_ind(group_a[group_a['most ads day']=='Friday']['converted'], group_b[group_b['most ads day']=='Friday']['converted'])[1]<0.05, \"Отвергаем нулевую гипотезу: Средняя конверсия группы A равна средней конверсии группы B\", \"Не отвергаем нулевую гипотезу: Средняя конверсия группы A неравна средней конверсии группы Б\"))\n",
    "print(np.where(group_a[group_a['most ads day']=='Friday']['converted'].mean()>group_b[group_b['most ads day']=='Friday']['converted'].mean(),'Конверсия группы А больше: Реклама объявлений привела к большим покупкам(группа А)','Конверсия группы Б больше: Социальная реклама привела к большим покупкам(группа Б)'))"
   ]
  },
  {
   "cell_type": "code",
   "execution_count": 526,
   "id": "63dd7892-34af-4db3-ad00-f02c6c74da16",
   "metadata": {},
   "outputs": [
    {
     "name": "stdout",
     "output_type": "stream",
     "text": [
      "Отвергаем нулевую гипотезу: Средняя конверсия группы A равна средней конверсии группы B\n",
      "Конверсия группы А больше: Реклама объявлений привела к большим покупкам(группа А)\n"
     ]
    }
   ],
   "source": [
    "print(np.where(stats.ttest_ind(group_a[group_a['most ads day']=='Monday']['converted'], group_b[group_b['most ads day']=='Monday']['converted'])[1]<0.05, \"Отвергаем нулевую гипотезу: Средняя конверсия группы A равна средней конверсии группы B\", \"Не отвергаем нулевую гипотезу: Средняя конверсия группы A неравна средней конверсии группы Б\"))\n",
    "print(np.where(group_a[group_a['most ads day']=='Monday']['converted'].mean()>group_b[group_b['most ads day']=='Monday']['converted'].mean(),'Конверсия группы А больше: Реклама объявлений привела к большим покупкам(группа А)','Конверсия группы Б больше: Социальная реклама привела к большим покупкам(группа Б)'))"
   ]
  },
  {
   "cell_type": "code",
   "execution_count": 528,
   "id": "c7c18602-56c6-4211-be1c-2ab567ea1dc1",
   "metadata": {},
   "outputs": [
    {
     "name": "stdout",
     "output_type": "stream",
     "text": [
      "Отвергаем нулевую гипотезу: Средняя конверсия группы A равна средней конверсии группы B\n",
      "Конверсия группы А больше: Реклама объявлений привела к большим покупкам(группа А)\n"
     ]
    }
   ],
   "source": [
    "print(np.where(stats.ttest_ind(group_a[group_a['most ads day']=='Saturday']['converted'], group_b[group_b['most ads day']=='Saturday']['converted'])[1]<0.05, \"Отвергаем нулевую гипотезу: Средняя конверсия группы A равна средней конверсии группы B\", \"Не отвергаем нулевую гипотезу: Средняя конверсия группы A неравна средней конверсии группы Б\"))\n",
    "print(np.where(group_a[group_a['most ads day']=='Saturday']['converted'].mean()>group_b[group_b['most ads day']=='Saturday']['converted'].mean(),'Конверсия группы А больше: Реклама объявлений привела к большим покупкам(группа А)','Конверсия группы Б больше: Социальная реклама привела к большим покупкам(группа Б)'))"
   ]
  },
  {
   "cell_type": "code",
   "execution_count": 536,
   "id": "67f08c17-8bbe-4131-b87f-a41daa10c37a",
   "metadata": {},
   "outputs": [
    {
     "name": "stdout",
     "output_type": "stream",
     "text": [
      "Не отвергаем нулевую гипотезу: Средняя конверсия группы A неравна средней конверсии группы Б\n"
     ]
    }
   ],
   "source": [
    "print(np.where(stats.ttest_ind(group_a[group_a['most ads day']=='Sunday']['converted'], group_b[group_b['most ads day']=='Sunday']['converted'])[1]<0.05, \"Отвергаем нулевую гипотезу: Средняя конверсия группы A равна средней конверсии группы B\", \"Не отвергаем нулевую гипотезу: Средняя конверсия группы A неравна средней конверсии группы Б\"))"
   ]
  },
  {
   "cell_type": "code",
   "execution_count": 538,
   "id": "3503de34-3891-45c1-86f5-637cb0352986",
   "metadata": {},
   "outputs": [
    {
     "name": "stdout",
     "output_type": "stream",
     "text": [
      "Не отвергаем нулевую гипотезу: Средняя конверсия группы A неравна средней конверсии группы Б\n"
     ]
    }
   ],
   "source": [
    "print(np.where(stats.ttest_ind(group_a[group_a['most ads day']=='Thursday']['converted'], group_b[group_b['most ads day']=='Thursday']['converted'])[1]<0.05, \"Отвергаем нулевую гипотезу: Средняя конверсия группы A равна средней конверсии группы B\", \"Не отвергаем нулевую гипотезу: Средняя конверсия группы A неравна средней конверсии группы Б\"))"
   ]
  },
  {
   "cell_type": "code",
   "execution_count": 530,
   "id": "dd0c1821-a9bd-42b9-a83c-634f6c6c9097",
   "metadata": {},
   "outputs": [
    {
     "name": "stdout",
     "output_type": "stream",
     "text": [
      "Отвергаем нулевую гипотезу: Средняя конверсия группы A равна средней конверсии группы B\n",
      "Конверсия группы А больше: Реклама объявлений привела к большим покупкам(группа А)\n"
     ]
    }
   ],
   "source": [
    "print(np.where(stats.ttest_ind(group_a[group_a['most ads day']=='Tuesday']['converted'], group_b[group_b['most ads day']=='Tuesday']['converted'])[1]<0.05, \"Отвергаем нулевую гипотезу: Средняя конверсия группы A равна средней конверсии группы B\", \"Не отвергаем нулевую гипотезу: Средняя конверсия группы A неравна средней конверсии группы Б\"))\n",
    "print(np.where(group_a[group_a['most ads day']=='Tuesday']['converted'].mean()>group_b[group_b['most ads day']=='Tuesday']['converted'].mean(),'Конверсия группы А больше: Реклама объявлений привела к большим покупкам(группа А)','Конверсия группы Б больше: Социальная реклама привела к большим покупкам(группа Б)'))"
   ]
  },
  {
   "cell_type": "code",
   "execution_count": 534,
   "id": "a8bf0b28-d8d2-45e0-8616-7ef1c95d896d",
   "metadata": {},
   "outputs": [
    {
     "name": "stdout",
     "output_type": "stream",
     "text": [
      "Отвергаем нулевую гипотезу: Средняя конверсия группы A равна средней конверсии группы B\n",
      "Конверсия группы А больше: Реклама объявлений привела к большим покупкам(группа А)\n"
     ]
    }
   ],
   "source": [
    "print(np.where(stats.ttest_ind(group_a[group_a['most ads day']=='Wednesday']['converted'], group_b[group_b['most ads day']=='Wednesday']['converted'])[1]<0.05, \"Отвергаем нулевую гипотезу: Средняя конверсия группы A равна средней конверсии группы B\", \"Не отвергаем нулевую гипотезу: Средняя конверсия группы A неравна средней конверсии группы Б\"))\n",
    "print(np.where(group_a[group_a['most ads day']=='Wednesday']['converted'].mean()>group_b[group_b['most ads day']=='Wednesday']['converted'].mean(),'Конверсия группы А больше: Реклама объявлений привела к большим покупкам(группа А)','Конверсия группы Б больше: Социальная реклама привела к большим покупкам(группа Б)'))"
   ]
  },
  {
   "cell_type": "markdown",
   "id": "50cd2cd1-52eb-4a8e-ac65-8490257583ed",
   "metadata": {},
   "source": [
    "# Вывод: в дни недели Sunday и Thursday эффект от рекламы не значителен, во всех оставшихся днях эффект от показа рекламы объявлений значительно выше чем от социальной рекламы."
   ]
  },
  {
   "cell_type": "code",
   "execution_count": null,
   "id": "129d43cf-0b8c-4975-8577-aa8ec5c0c390",
   "metadata": {},
   "outputs": [],
   "source": []
  }
 ],
 "metadata": {
  "kernelspec": {
   "display_name": "Python 3 (ipykernel)",
   "language": "python",
   "name": "python3"
  },
  "language_info": {
   "codemirror_mode": {
    "name": "ipython",
    "version": 3
   },
   "file_extension": ".py",
   "mimetype": "text/x-python",
   "name": "python",
   "nbconvert_exporter": "python",
   "pygments_lexer": "ipython3",
   "version": "3.12.4"
  }
 },
 "nbformat": 4,
 "nbformat_minor": 5
}
