{
 "cells": [
  {
   "cell_type": "code",
   "execution_count": 1,
   "id": "7f0f3be4-8f40-4969-98f2-8519d5489f8a",
   "metadata": {},
   "outputs": [],
   "source": [
    "import pandas as pd"
   ]
  },
  {
   "cell_type": "code",
   "execution_count": 2,
   "id": "d4c84c32-f62b-437e-a645-fb209e0e9d91",
   "metadata": {},
   "outputs": [],
   "source": [
    "import numpy as np"
   ]
  },
  {
   "cell_type": "code",
   "execution_count": 3,
   "id": "8c15a3c7-2f0a-4ba5-aee9-0d5659d42573",
   "metadata": {},
   "outputs": [],
   "source": [
    "import matplotlib.pyplot as plt"
   ]
  },
  {
   "cell_type": "code",
   "execution_count": 6,
   "id": "e507759b-1e04-46b2-bd60-8f1848191d27",
   "metadata": {},
   "outputs": [],
   "source": [
    "import seaborn as sns"
   ]
  },
  {
   "cell_type": "code",
   "execution_count": 8,
   "id": "ae5e3876-3931-4044-984b-4c236052242c",
   "metadata": {},
   "outputs": [],
   "source": [
    "import warnings"
   ]
  },
  {
   "cell_type": "code",
   "execution_count": 9,
   "id": "d96f3b17-08e6-4710-a428-d6a9e7e43ff8",
   "metadata": {},
   "outputs": [],
   "source": [
    "warnings.filterwarnings(\"ignore\")"
   ]
  },
  {
   "cell_type": "code",
   "execution_count": 15,
   "id": "edcfb1d2-f5bf-48bf-acd1-0028dfa487f8",
   "metadata": {},
   "outputs": [],
   "source": [
    "df = pd.read_csv (r\"https://raw.githubusercontent.com/YBI-Foundation/Dataset/main/Wine.csv\")"
   ]
  },
  {
   "cell_type": "code",
   "execution_count": 16,
   "id": "56102251-53f3-4e6e-86db-bfc2d0e3692e",
   "metadata": {},
   "outputs": [
    {
     "data": {
      "text/html": [
       "<div>\n",
       "<style scoped>\n",
       "    .dataframe tbody tr th:only-of-type {\n",
       "        vertical-align: middle;\n",
       "    }\n",
       "\n",
       "    .dataframe tbody tr th {\n",
       "        vertical-align: top;\n",
       "    }\n",
       "\n",
       "    .dataframe thead th {\n",
       "        text-align: right;\n",
       "    }\n",
       "</style>\n",
       "<table border=\"1\" class=\"dataframe\">\n",
       "  <thead>\n",
       "    <tr style=\"text-align: right;\">\n",
       "      <th></th>\n",
       "      <th>class_label</th>\n",
       "      <th>class_name</th>\n",
       "      <th>alcohol</th>\n",
       "      <th>malic_acid</th>\n",
       "      <th>ash</th>\n",
       "      <th>alcalinity_of_ash</th>\n",
       "      <th>magnesium</th>\n",
       "      <th>total_phenols</th>\n",
       "      <th>flavanoids</th>\n",
       "      <th>nonflavanoid_phenols</th>\n",
       "      <th>proanthocyanins</th>\n",
       "      <th>color_intensity</th>\n",
       "      <th>hue</th>\n",
       "      <th>od280</th>\n",
       "      <th>proline</th>\n",
       "    </tr>\n",
       "  </thead>\n",
       "  <tbody>\n",
       "    <tr>\n",
       "      <th>0</th>\n",
       "      <td>1</td>\n",
       "      <td>Barolo</td>\n",
       "      <td>14.23</td>\n",
       "      <td>1.71</td>\n",
       "      <td>2.43</td>\n",
       "      <td>15.6</td>\n",
       "      <td>127</td>\n",
       "      <td>2.80</td>\n",
       "      <td>3.06</td>\n",
       "      <td>0.28</td>\n",
       "      <td>2.29</td>\n",
       "      <td>5.64</td>\n",
       "      <td>1.04</td>\n",
       "      <td>3.92</td>\n",
       "      <td>1065</td>\n",
       "    </tr>\n",
       "    <tr>\n",
       "      <th>1</th>\n",
       "      <td>1</td>\n",
       "      <td>Barolo</td>\n",
       "      <td>13.20</td>\n",
       "      <td>1.78</td>\n",
       "      <td>2.14</td>\n",
       "      <td>11.2</td>\n",
       "      <td>100</td>\n",
       "      <td>2.65</td>\n",
       "      <td>2.76</td>\n",
       "      <td>0.26</td>\n",
       "      <td>1.28</td>\n",
       "      <td>4.38</td>\n",
       "      <td>1.05</td>\n",
       "      <td>3.40</td>\n",
       "      <td>1050</td>\n",
       "    </tr>\n",
       "    <tr>\n",
       "      <th>2</th>\n",
       "      <td>1</td>\n",
       "      <td>Barolo</td>\n",
       "      <td>13.16</td>\n",
       "      <td>2.36</td>\n",
       "      <td>2.67</td>\n",
       "      <td>18.6</td>\n",
       "      <td>101</td>\n",
       "      <td>2.80</td>\n",
       "      <td>3.24</td>\n",
       "      <td>0.30</td>\n",
       "      <td>2.81</td>\n",
       "      <td>5.68</td>\n",
       "      <td>1.03</td>\n",
       "      <td>3.17</td>\n",
       "      <td>1185</td>\n",
       "    </tr>\n",
       "    <tr>\n",
       "      <th>3</th>\n",
       "      <td>1</td>\n",
       "      <td>Barolo</td>\n",
       "      <td>14.37</td>\n",
       "      <td>1.95</td>\n",
       "      <td>2.50</td>\n",
       "      <td>16.8</td>\n",
       "      <td>113</td>\n",
       "      <td>3.85</td>\n",
       "      <td>3.49</td>\n",
       "      <td>0.24</td>\n",
       "      <td>2.18</td>\n",
       "      <td>7.80</td>\n",
       "      <td>0.86</td>\n",
       "      <td>3.45</td>\n",
       "      <td>1480</td>\n",
       "    </tr>\n",
       "    <tr>\n",
       "      <th>4</th>\n",
       "      <td>1</td>\n",
       "      <td>Barolo</td>\n",
       "      <td>13.24</td>\n",
       "      <td>2.59</td>\n",
       "      <td>2.87</td>\n",
       "      <td>21.0</td>\n",
       "      <td>118</td>\n",
       "      <td>2.80</td>\n",
       "      <td>2.69</td>\n",
       "      <td>0.39</td>\n",
       "      <td>1.82</td>\n",
       "      <td>4.32</td>\n",
       "      <td>1.04</td>\n",
       "      <td>2.93</td>\n",
       "      <td>735</td>\n",
       "    </tr>\n",
       "    <tr>\n",
       "      <th>...</th>\n",
       "      <td>...</td>\n",
       "      <td>...</td>\n",
       "      <td>...</td>\n",
       "      <td>...</td>\n",
       "      <td>...</td>\n",
       "      <td>...</td>\n",
       "      <td>...</td>\n",
       "      <td>...</td>\n",
       "      <td>...</td>\n",
       "      <td>...</td>\n",
       "      <td>...</td>\n",
       "      <td>...</td>\n",
       "      <td>...</td>\n",
       "      <td>...</td>\n",
       "      <td>...</td>\n",
       "    </tr>\n",
       "    <tr>\n",
       "      <th>173</th>\n",
       "      <td>3</td>\n",
       "      <td>Barbera</td>\n",
       "      <td>13.71</td>\n",
       "      <td>5.65</td>\n",
       "      <td>2.45</td>\n",
       "      <td>20.5</td>\n",
       "      <td>95</td>\n",
       "      <td>1.68</td>\n",
       "      <td>0.61</td>\n",
       "      <td>0.52</td>\n",
       "      <td>1.06</td>\n",
       "      <td>7.70</td>\n",
       "      <td>0.64</td>\n",
       "      <td>1.74</td>\n",
       "      <td>740</td>\n",
       "    </tr>\n",
       "    <tr>\n",
       "      <th>174</th>\n",
       "      <td>3</td>\n",
       "      <td>Barbera</td>\n",
       "      <td>13.40</td>\n",
       "      <td>3.91</td>\n",
       "      <td>2.48</td>\n",
       "      <td>23.0</td>\n",
       "      <td>102</td>\n",
       "      <td>1.80</td>\n",
       "      <td>0.75</td>\n",
       "      <td>0.43</td>\n",
       "      <td>1.41</td>\n",
       "      <td>7.30</td>\n",
       "      <td>0.70</td>\n",
       "      <td>1.56</td>\n",
       "      <td>750</td>\n",
       "    </tr>\n",
       "    <tr>\n",
       "      <th>175</th>\n",
       "      <td>3</td>\n",
       "      <td>Barbera</td>\n",
       "      <td>13.27</td>\n",
       "      <td>4.28</td>\n",
       "      <td>2.26</td>\n",
       "      <td>20.0</td>\n",
       "      <td>120</td>\n",
       "      <td>1.59</td>\n",
       "      <td>0.69</td>\n",
       "      <td>0.43</td>\n",
       "      <td>1.35</td>\n",
       "      <td>10.20</td>\n",
       "      <td>0.59</td>\n",
       "      <td>1.56</td>\n",
       "      <td>835</td>\n",
       "    </tr>\n",
       "    <tr>\n",
       "      <th>176</th>\n",
       "      <td>3</td>\n",
       "      <td>Barbera</td>\n",
       "      <td>13.17</td>\n",
       "      <td>2.59</td>\n",
       "      <td>2.37</td>\n",
       "      <td>20.0</td>\n",
       "      <td>120</td>\n",
       "      <td>1.65</td>\n",
       "      <td>0.68</td>\n",
       "      <td>0.53</td>\n",
       "      <td>1.46</td>\n",
       "      <td>9.30</td>\n",
       "      <td>0.60</td>\n",
       "      <td>1.62</td>\n",
       "      <td>840</td>\n",
       "    </tr>\n",
       "    <tr>\n",
       "      <th>177</th>\n",
       "      <td>3</td>\n",
       "      <td>Barbera</td>\n",
       "      <td>14.13</td>\n",
       "      <td>4.10</td>\n",
       "      <td>2.74</td>\n",
       "      <td>24.5</td>\n",
       "      <td>96</td>\n",
       "      <td>2.05</td>\n",
       "      <td>0.76</td>\n",
       "      <td>0.56</td>\n",
       "      <td>1.35</td>\n",
       "      <td>9.20</td>\n",
       "      <td>0.61</td>\n",
       "      <td>1.60</td>\n",
       "      <td>560</td>\n",
       "    </tr>\n",
       "  </tbody>\n",
       "</table>\n",
       "<p>178 rows × 15 columns</p>\n",
       "</div>"
      ],
      "text/plain": [
       "     class_label class_name  alcohol  malic_acid   ash  alcalinity_of_ash  \\\n",
       "0              1     Barolo    14.23        1.71  2.43               15.6   \n",
       "1              1     Barolo    13.20        1.78  2.14               11.2   \n",
       "2              1     Barolo    13.16        2.36  2.67               18.6   \n",
       "3              1     Barolo    14.37        1.95  2.50               16.8   \n",
       "4              1     Barolo    13.24        2.59  2.87               21.0   \n",
       "..           ...        ...      ...         ...   ...                ...   \n",
       "173            3    Barbera    13.71        5.65  2.45               20.5   \n",
       "174            3    Barbera    13.40        3.91  2.48               23.0   \n",
       "175            3    Barbera    13.27        4.28  2.26               20.0   \n",
       "176            3    Barbera    13.17        2.59  2.37               20.0   \n",
       "177            3    Barbera    14.13        4.10  2.74               24.5   \n",
       "\n",
       "     magnesium  total_phenols  flavanoids  nonflavanoid_phenols  \\\n",
       "0          127           2.80        3.06                  0.28   \n",
       "1          100           2.65        2.76                  0.26   \n",
       "2          101           2.80        3.24                  0.30   \n",
       "3          113           3.85        3.49                  0.24   \n",
       "4          118           2.80        2.69                  0.39   \n",
       "..         ...            ...         ...                   ...   \n",
       "173         95           1.68        0.61                  0.52   \n",
       "174        102           1.80        0.75                  0.43   \n",
       "175        120           1.59        0.69                  0.43   \n",
       "176        120           1.65        0.68                  0.53   \n",
       "177         96           2.05        0.76                  0.56   \n",
       "\n",
       "     proanthocyanins  color_intensity   hue  od280  proline  \n",
       "0               2.29             5.64  1.04   3.92     1065  \n",
       "1               1.28             4.38  1.05   3.40     1050  \n",
       "2               2.81             5.68  1.03   3.17     1185  \n",
       "3               2.18             7.80  0.86   3.45     1480  \n",
       "4               1.82             4.32  1.04   2.93      735  \n",
       "..               ...              ...   ...    ...      ...  \n",
       "173             1.06             7.70  0.64   1.74      740  \n",
       "174             1.41             7.30  0.70   1.56      750  \n",
       "175             1.35            10.20  0.59   1.56      835  \n",
       "176             1.46             9.30  0.60   1.62      840  \n",
       "177             1.35             9.20  0.61   1.60      560  \n",
       "\n",
       "[178 rows x 15 columns]"
      ]
     },
     "execution_count": 16,
     "metadata": {},
     "output_type": "execute_result"
    }
   ],
   "source": [
    "df"
   ]
  },
  {
   "cell_type": "code",
   "execution_count": 222,
   "id": "c48ae9f5-c922-4236-a030-9b072a0ea08d",
   "metadata": {},
   "outputs": [
    {
     "data": {
      "text/plain": [
       "[(11.0, 14.0)]"
      ]
     },
     "execution_count": 222,
     "metadata": {},
     "output_type": "execute_result"
    },
    {
     "data": {
      "image/png": "[encoded data removed]",
      "text/plain": [
       "<Figure size 640x480 with 1 Axes>"
      ]
     },
     "metadata": {},
     "output_type": "display_data"
    }
   ],
   "source": [
    "#столбчатая диаграмма показывает количество алкоголя в отдельно взятых винах.\n",
    "#в вине Barolo самое большое количество алкоголя\n",
    "data = df[['class_name','alcohol']]\n",
    "sns.barplot(data = data, x = 'class_name', y = 'alcohol').set(ylim=(11, 14))"
   ]
  },
  {
   "cell_type": "code",
   "execution_count": 368,
   "id": "2a1140fe-2ce7-45bd-9c50-17d6127a5d58",
   "metadata": {},
   "outputs": [
    {
     "data": {
      "text/plain": [
       "Text(0.5, 1.0, 'Интенсивность фенола')"
      ]
     },
     "execution_count": 368,
     "metadata": {},
     "output_type": "execute_result"
    },
    {
     "data": {
      "image/png": "[encoded data removed]",
      "text/plain": [
       "<Figure size 640x480 with 1 Axes>"
      ]
     },
     "metadata": {},
     "output_type": "display_data"
    }
   ],
   "source": [
    "#гистограмма с распределением числовой переменной по фенолу. Интенсивность фенола указывает на цвет вина\n",
    "#густой цвет указывает на высокую экстрактивность. Barolo является самым легко растворимым вином.\n",
    "data = [list(df[df['class_name'] == 'Barolo']['total_phenols']),list(df[df['class_name'] == 'Grignolino']['total_phenols']),list(df[df['class_name'] == 'Barbera']['total_phenols'])]\n",
    "colors = ['#480607', '#E69F00', '#FF496C']\n",
    "labels = ['Barolo', 'Grignolino', 'Barbera']\n",
    "plt.hist(data,color = colors,label = labels)\n",
    "plt.legend()\n",
    "plt.xlabel('фенол')\n",
    "plt.ylabel('мг/дм3')\n",
    "plt.title('Интенсивность фенола')"
   ]
  },
  {
   "cell_type": "code",
   "execution_count": 32,
   "id": "bac1ca0d-5690-4bd0-9a9d-2e8dac737a3d",
   "metadata": {},
   "outputs": [
    {
     "data": {
      "text/plain": [
       "<Axes: xlabel='alcohol', ylabel='flavanoids'>"
      ]
     },
     "execution_count": 32,
     "metadata": {},
     "output_type": "execute_result"
    },
    {
     "data": {
      "image/png": "[encoded data removed]",
      "text/plain": [
       "<Figure size 640x480 with 1 Axes>"
      ]
     },
     "metadata": {},
     "output_type": "display_data"
    }
   ],
   "source": [
    "#точечная диаграмма для двух числовых переменных на примере соотношения алкоголя и флавоноидов.\n",
    "#на данных видна польза вина, чем больше флавоноидов тем больше антиоксидантов в вине. \n",
    "#из представленных данных видно, что чем выше % алкоголя в вине тем больше антиоксидантов.\n",
    "data = df\n",
    "sns.scatterplot(data=data, x = 'alcohol', y = 'flavanoids')\n"
   ]
  },
  {
   "cell_type": "code",
   "execution_count": 202,
   "id": "e8af7cce-d0e9-40e5-9c85-27a64956a082",
   "metadata": {},
   "outputs": [
    {
     "data": {
      "text/plain": [
       "<Axes: >"
      ]
     },
     "execution_count": 202,
     "metadata": {},
     "output_type": "execute_result"
    },
    {
     "data": {
      "image/png": "[encoded data removed]",
      "text/plain": [
       "<Figure size 640x480 with 2 Axes>"
      ]
     },
     "metadata": {},
     "output_type": "display_data"
    }
   ],
   "source": [
    "#тепловая карта для двух категориальных переменных\n",
    "#показывает вред вина в соотношении алкоголя к арсину \n",
    "#вино разной крепкости одинаково вредное по показателю токсинов.\n",
    "data = group_df.drop('class_name', axis=1)\n",
    "data = group_df[['alcohol','ash']]\n",
    "sns.heatmap(data,annot=True)"
   ]
  },
  {
   "cell_type": "code",
   "execution_count": null,
   "id": "a288c69f-2a79-4c33-9c79-2474e24f63c3",
   "metadata": {},
   "outputs": [],
   "source": []
  }
 ],
 "metadata": {
  "kernelspec": {
   "display_name": "Python 3 (ipykernel)",
   "language": "python",
   "name": "python3"
  },
  "language_info": {
   "codemirror_mode": {
    "name": "ipython",
    "version": 3
   },
   "file_extension": ".py",
   "mimetype": "text/x-python",
   "name": "python",
   "nbconvert_exporter": "python",
   "pygments_lexer": "ipython3",
   "version": "3.12.4"
  }
 },
 "nbformat": 4,
 "nbformat_minor": 5
}
